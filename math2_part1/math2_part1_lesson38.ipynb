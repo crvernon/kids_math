{
 "cells": [
  {
   "cell_type": "markdown",
   "metadata": {},
   "source": [
    "# Math 2, Part 1, Lesson 38"
   ]
  },
  {
   "cell_type": "markdown",
   "metadata": {},
   "source": [
    "## Using our tools (the `kids_math` package)"
   ]
  },
  {
   "cell_type": "code",
   "execution_count": 1,
   "metadata": {},
   "outputs": [],
   "source": [
    "import kids_math"
   ]
  },
  {
   "cell_type": "markdown",
   "metadata": {},
   "source": [
    "Let's get acquainted!  Type in your name in the empty string for the `my_name` variable below and give it to our program. Then execute your statement and the programs statement to receive a greeting!"
   ]
  },
  {
   "cell_type": "markdown",
   "metadata": {},
   "source": [
    "_Your name in here '', like 'Dad'_"
   ]
  },
  {
   "cell_type": "code",
   "execution_count": 5,
   "metadata": {},
   "outputs": [],
   "source": [
    "my_name = '' # your name in here '', like 'Dad'"
   ]
  },
  {
   "cell_type": "markdown",
   "metadata": {},
   "source": [
    "_This is the program wanting your name_"
   ]
  },
  {
   "cell_type": "code",
   "execution_count": null,
   "metadata": {},
   "outputs": [],
   "source": [
    "kids_math.say_hello(my_name)"
   ]
  },
  {
   "cell_type": "markdown",
   "metadata": {},
   "source": [
    "## The decimal point"
   ]
  },
  {
   "cell_type": "markdown",
   "metadata": {},
   "source": [
    "### Background"
   ]
  },
  {
   "cell_type": "markdown",
   "metadata": {},
   "source": [
    "Python is the programming language we are using to give instructions to our computer so it can do work for us.  I this lesson we will learn how to communicate more clearly with our computer by giving it instructions about different `types` of numbers.  There are several different numeric types in Python but let's talk about integers and floating point numbers.  \n",
    "\n",
    "First let's check out integers which are the type of number we have been working with so far.  Go ahead and create a variable named `dollars` and assign it the value of `5`:\n",
    "\n",
    "```python\n",
    "dollars = 5\n",
    "```"
   ]
  },
  {
   "cell_type": "code",
   "execution_count": null,
   "metadata": {},
   "outputs": [],
   "source": []
  },
  {
   "cell_type": "markdown",
   "metadata": {},
   "source": [
    "Our `5` in this case is an integer because it is not a fraction.  Can you say some other numbers that are not fractions?  (Hint:  think of the numbers on our dollars).\n",
    "\n",
    "Now let's see what Python tells us the type of our number is by executing:\n",
    "\n",
    "```python\n",
    "type(dollars)\n",
    "```"
   ]
  },
  {
   "cell_type": "code",
   "execution_count": null,
   "metadata": {},
   "outputs": [],
   "source": []
  },
  {
   "cell_type": "markdown",
   "metadata": {},
   "source": [
    "Python uses an abbreviation `int` for `integer`.  "
   ]
  },
  {
   "cell_type": "markdown",
   "metadata": {},
   "source": [
    "### Today's lesson"
   ]
  },
  {
   "cell_type": "markdown",
   "metadata": {},
   "source": [
    "We learned about decimal points in today's lesson.  Let's create a variable named `cents` to represent our decimal point number for ninety five cents, or `0.95`:\n",
    "\n",
    "```python\n",
    "cents = 0.95\n",
    "```"
   ]
  },
  {
   "cell_type": "code",
   "execution_count": null,
   "metadata": {},
   "outputs": [],
   "source": []
  },
  {
   "cell_type": "markdown",
   "metadata": {},
   "source": [
    "This represents a fraction of a dollar, or a dollar that is not whole.  Now let's see what Python calls this number type:\n",
    "\n",
    "```python\n",
    "type(cents)\n",
    "```"
   ]
  },
  {
   "cell_type": "code",
   "execution_count": null,
   "metadata": {},
   "outputs": [],
   "source": []
  },
  {
   "cell_type": "markdown",
   "metadata": {},
   "source": [
    "The numeric type `float` is kind of a funny name for a decimal point number, but they mean the same thing.  Sort of like a funny nickname that your uncle would give you."
   ]
  },
  {
   "cell_type": "markdown",
   "metadata": {},
   "source": [
    "## Adding dollars and cents (integers and decimals)"
   ]
  },
  {
   "cell_type": "markdown",
   "metadata": {},
   "source": [
    "I wonder what will happen when we combine add an integer number and a decimal (or `float`) number together?  Let's try!\n",
    "\n",
    "Add your dollars and cents variables together and see what you get..."
   ]
  },
  {
   "cell_type": "code",
   "execution_count": null,
   "metadata": {},
   "outputs": [],
   "source": []
  },
  {
   "cell_type": "markdown",
   "metadata": {},
   "source": [
    "Was that what you expected?"
   ]
  },
  {
   "cell_type": "markdown",
   "metadata": {},
   "source": [
    "Assign the result of `dollars + cents` to a variable named `purse`. \n",
    "\n",
    "```python\n",
    "purse = dollars + cents\n",
    "```"
   ]
  },
  {
   "cell_type": "markdown",
   "metadata": {},
   "source": [
    "Use your money (stored in your `purse`) to purchase the following items:\n",
    "\n",
    "- a toy bunny that costs `$3.85`\n",
    "- an orange that costs `$0.30`\n",
    "- an apple that costs `$0.20`\n",
    "- and a gift for mom that costs `$1.01`\n",
    "\n",
    "First, let's assign these money value to our items we want to buy:\n",
    "\n",
    "```python\n",
    "bunny = 3.85\n",
    "orange = 0.30\n",
    "apple = 0.20\n",
    "gift = 1.01\n",
    "```\n",
    "\n",
    "Next, let's buy our items:\n",
    "\n",
    "**Hint**:  Update your `purse` variable everytime you buy an item like...\n",
    "\n",
    "```python\n",
    "purse = purse - toy_bunny\n",
    "```"
   ]
  },
  {
   "cell_type": "code",
   "execution_count": null,
   "metadata": {},
   "outputs": [],
   "source": []
  },
  {
   "cell_type": "markdown",
   "metadata": {},
   "source": [
    "How much do we have left to put in savings?\n",
    "\n",
    "**Hint**:  See how much you have left in your purse."
   ]
  },
  {
   "cell_type": "code",
   "execution_count": null,
   "metadata": {},
   "outputs": [],
   "source": []
  }
 ],
 "metadata": {
  "kernelspec": {
   "display_name": "Python 3",
   "language": "python",
   "name": "python3"
  },
  "language_info": {
   "codemirror_mode": {
    "name": "ipython",
    "version": 3
   },
   "file_extension": ".py",
   "mimetype": "text/x-python",
   "name": "python",
   "nbconvert_exporter": "python",
   "pygments_lexer": "ipython3",
   "version": "3.6.5"
  }
 },
 "nbformat": 4,
 "nbformat_minor": 2
}
