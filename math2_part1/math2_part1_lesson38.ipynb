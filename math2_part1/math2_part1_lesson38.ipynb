{
 "cells": [
  {
   "cell_type": "markdown",
   "metadata": {},
   "source": [
    "# Math 2, Part 1, Lesson 38"
   ]
  },
  {
   "cell_type": "markdown",
   "metadata": {},
   "source": [
    "## Using our tools (the `kids_math` package)"
   ]
  },
  {
   "cell_type": "code",
   "execution_count": 2,
   "metadata": {},
   "outputs": [],
   "source": [
    "import kids_math"
   ]
  },
  {
   "cell_type": "markdown",
   "metadata": {},
   "source": [
    "Let's get acquainted!  Type in your name in the empty string for the `my_name` variable below and give it to our program. Then execute your statement and the programs statement to receive a greeting!"
   ]
  },
  {
   "cell_type": "markdown",
   "metadata": {},
   "source": [
    "_Your name in here '', like 'Dad'_"
   ]
  },
  {
   "cell_type": "code",
   "execution_count": 3,
   "metadata": {},
   "outputs": [],
   "source": [
    "my_name = '' # your name in here '', like 'Dad'"
   ]
  },
  {
   "cell_type": "markdown",
   "metadata": {},
   "source": [
    "_This is the program wanting your name_"
   ]
  },
  {
   "cell_type": "code",
   "execution_count": 4,
   "metadata": {},
   "outputs": [
    {
     "name": "stdout",
     "output_type": "stream",
     "text": [
      "Hello !\n"
     ]
    }
   ],
   "source": [
    "kids_math.say_hello(my_name)"
   ]
  },
  {
   "cell_type": "markdown",
   "metadata": {},
   "source": [
    "## The decimal point"
   ]
  },
  {
   "cell_type": "markdown",
   "metadata": {},
   "source": [
    "### Background"
   ]
  },
  {
   "cell_type": "markdown",
   "metadata": {},
   "source": [
    "Python is the programming language we are using to give instructions to our computer so it can do work for us.  I this lesson we will learn how to communicate more clearly with our computer by giving it instructions about different `types` of numbers.  There are several different numeric types in Python but let's talk about integers and floating point numbers.  \n",
    "\n",
    "First let's check out integers which are the type of number we have been working with so far.  Go ahead and create a variable named `dollars` and assign it the value of `5`:\n",
    "\n",
    "```python\n",
    "dollars = 5\n",
    "```"
   ]
  },
  {
   "cell_type": "code",
   "execution_count": 5,
   "metadata": {},
   "outputs": [],
   "source": [
    "dollars = 5"
   ]
  },
  {
   "cell_type": "markdown",
   "metadata": {},
   "source": [
    "Our `5` in this case is an integer because it is not a fraction.  Can you say some other numbers that are not fractions?  (Hint:  think of the numbers on our dollars).\n",
    "\n",
    "Now let's see what Python tells us the type of our number is by executing:\n",
    "\n",
    "```python\n",
    "type(dollars)\n",
    "```"
   ]
  },
  {
   "cell_type": "code",
   "execution_count": 6,
   "metadata": {},
   "outputs": [
    {
     "data": {
      "text/plain": [
       "int"
      ]
     },
     "execution_count": 6,
     "metadata": {},
     "output_type": "execute_result"
    }
   ],
   "source": [
    "type(dollars)"
   ]
  },
  {
   "cell_type": "markdown",
   "metadata": {},
   "source": [
    "Python uses an abbreviation `int` for `integer`.  "
   ]
  },
  {
   "cell_type": "markdown",
   "metadata": {},
   "source": [
    "### Today's lesson"
   ]
  },
  {
   "cell_type": "markdown",
   "metadata": {},
   "source": [
    "We learned about decimal points in today's lesson.  Let's create a variable named `cents` to represent our decimal point number for ninety five cents, or `0.95`:\n",
    "\n",
    "```python\n",
    "cents = 0.95\n",
    "```"
   ]
  },
  {
   "cell_type": "code",
   "execution_count": 7,
   "metadata": {},
   "outputs": [],
   "source": [
    "cents = 0.95"
   ]
  },
  {
   "cell_type": "markdown",
   "metadata": {},
   "source": [
    "This represents a fraction of a dollar, or a dollar that is not whole.  Now let's see what Python calls this number type:\n",
    "\n",
    "```python\n",
    "type(cents)\n",
    "```"
   ]
  },
  {
   "cell_type": "code",
   "execution_count": 8,
   "metadata": {},
   "outputs": [
    {
     "data": {
      "text/plain": [
       "float"
      ]
     },
     "execution_count": 8,
     "metadata": {},
     "output_type": "execute_result"
    }
   ],
   "source": [
    "type(cents)"
   ]
  },
  {
   "cell_type": "markdown",
   "metadata": {},
   "source": [
    "The numeric type `float` is kind of a funny name for a decimal point number, but they mean the same thing.  Sort of like a funny nickname that your uncle would give you."
   ]
  },
  {
   "cell_type": "markdown",
   "metadata": {},
   "source": [
    "## Adding dollars and cents (integers and decimals)"
   ]
  },
  {
   "cell_type": "markdown",
   "metadata": {},
   "source": [
    "I wonder what will happen when we combine add an integer number and a decimal (or `float`) number together?  Let's try!\n",
    "\n",
    "Add your dollars and cents variables together and see what you get..."
   ]
  },
  {
   "cell_type": "code",
   "execution_count": 9,
   "metadata": {},
   "outputs": [
    {
     "data": {
      "text/plain": [
       "5.95"
      ]
     },
     "execution_count": 9,
     "metadata": {},
     "output_type": "execute_result"
    }
   ],
   "source": [
    "dollars + cents"
   ]
  },
  {
   "cell_type": "markdown",
   "metadata": {},
   "source": [
    "Was that what you expected?"
   ]
  },
  {
   "cell_type": "markdown",
   "metadata": {},
   "source": [
    "Assign the result of `dollars + cents` to a variable named `purse`. \n",
    "\n",
    "```python\n",
    "purse = dollars + cents\n",
    "```"
   ]
  },
  {
   "cell_type": "code",
   "execution_count": 37,
   "metadata": {},
   "outputs": [],
   "source": [
    "purse = dollars + cents"
   ]
  },
  {
   "cell_type": "markdown",
   "metadata": {},
   "source": [
    "Use your money (stored in your `purse`) to purchase the following items:\n",
    "\n",
    "- a toy bunny that costs `$3.85`\n",
    "- an orange that costs `$0.30`\n",
    "- an apple that costs `$0.20`\n",
    "- and a gift for mom that costs `$1.01`\n",
    "\n",
    "First, let's assign these money value to our items we want to buy:\n",
    "\n",
    "```python\n",
    "bunny = 3.85\n",
    "orange = 0.30\n",
    "apple = 0.20\n",
    "gift = 1.01\n",
    "```\n",
    "\n",
    "Next, let's buy our items:\n",
    "\n",
    "**Hint**:  Update your `purse` variable everytime you buy an item like...\n",
    "\n",
    "```python\n",
    "purse = purse - bunny\n",
    "```"
   ]
  },
  {
   "cell_type": "code",
   "execution_count": 38,
   "metadata": {},
   "outputs": [],
   "source": [
    "bunny = 3.85\n",
    "orange = 0.30\n",
    "apple = 0.20\n",
    "gift = 1.01"
   ]
  },
  {
   "cell_type": "code",
   "execution_count": 39,
   "metadata": {},
   "outputs": [
    {
     "data": {
      "text/plain": [
       "2.1"
      ]
     },
     "execution_count": 39,
     "metadata": {},
     "output_type": "execute_result"
    }
   ],
   "source": [
    "# buy a bunny\n",
    "purse = purse - bunny\n",
    "purse"
   ]
  },
  {
   "cell_type": "markdown",
   "metadata": {},
   "source": [
    "_NOTE:  If the last number is 0 then Python will just leave that off._"
   ]
  },
  {
   "cell_type": "code",
   "execution_count": 40,
   "metadata": {},
   "outputs": [
    {
     "data": {
      "text/plain": [
       "1.8"
      ]
     },
     "execution_count": 40,
     "metadata": {},
     "output_type": "execute_result"
    }
   ],
   "source": [
    "# buy a orange\n",
    "purse = purse - orange\n",
    "purse"
   ]
  },
  {
   "cell_type": "code",
   "execution_count": 41,
   "metadata": {},
   "outputs": [
    {
     "data": {
      "text/plain": [
       "1.6"
      ]
     },
     "execution_count": 41,
     "metadata": {},
     "output_type": "execute_result"
    }
   ],
   "source": [
    "# buy a apple\n",
    "purse = purse - apple\n",
    "purse"
   ]
  },
  {
   "cell_type": "code",
   "execution_count": 42,
   "metadata": {},
   "outputs": [
    {
     "data": {
      "text/plain": [
       "0.59"
      ]
     },
     "execution_count": 42,
     "metadata": {},
     "output_type": "execute_result"
    }
   ],
   "source": [
    "# buy a gift\n",
    "purse = purse - gift\n",
    "round(purse, 2)"
   ]
  },
  {
   "cell_type": "markdown",
   "metadata": {},
   "source": [
    "_NOTE: For money, there can only be two numbers after the decimal because there are only 99 pennies in a dollar.  However, there can be lots more numbers after a decimal for computers since they process lots of different types of information.  For now, we can make our number only give us two numbers after the decimal using the function named_ `round()`."
   ]
  },
  {
   "cell_type": "markdown",
   "metadata": {},
   "source": [
    "How much do we have left to put in savings?\n",
    "\n",
    "**Hint**:  See how much you have left in your purse."
   ]
  },
  {
   "cell_type": "code",
   "execution_count": null,
   "metadata": {},
   "outputs": [],
   "source": []
  }
 ],
 "metadata": {
  "kernelspec": {
   "display_name": "Python 3",
   "language": "python",
   "name": "python3"
  },
  "language_info": {
   "codemirror_mode": {
    "name": "ipython",
    "version": 3
   },
   "file_extension": ".py",
   "mimetype": "text/x-python",
   "name": "python",
   "nbconvert_exporter": "python",
   "pygments_lexer": "ipython3",
   "version": "3.6.5"
  }
 },
 "nbformat": 4,
 "nbformat_minor": 2
}
